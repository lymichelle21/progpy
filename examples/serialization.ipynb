{
 "cells": [
  {
   "cell_type": "markdown",
   "metadata": {},
   "source": [
    "# Welcome to ProgPy's Serialization Tutorial!"
   ]
  },
  {
   "cell_type": "markdown",
   "metadata": {},
   "source": [
    "In this tutorial, we will learn how to serialize and deserialize Python objects using the `pickle` and `JSON` methods.\n",
    "\n",
    "Model serialization has a lot of purposes, like saving a specific model to a file to be loaded later or sending a model to another machine over a network connection."
   ]
  },
  {
   "cell_type": "markdown",
   "metadata": {},
   "source": [
    "### Importing Modules"
   ]
  },
  {
   "cell_type": "code",
   "execution_count": null,
   "metadata": {},
   "outputs": [],
   "source": [
    "import matplotlib.pyplot as plt\n",
    "import pickle\n",
    "from progpy.models import BatteryElectroChemEOD as Battery"
   ]
  },
  {
   "cell_type": "markdown",
   "metadata": {},
   "source": [
    "We'll need to create a model object. For this example, we'll use the [BatteryElectroChemEOD](https://nasa.github.io/progpy/api_ref/prog_models/IncludedModels.html#battery-model) model!\n",
    "\n",
    "Furthermore, we'll be setting our `process_noise` to 0 to illustrate the match between original and serialized versions!"
   ]
  },
  {
   "cell_type": "code",
   "execution_count": null,
   "metadata": {},
   "outputs": [],
   "source": [
    "batt = Battery()\n",
    "batt.parameters['process_noise'] = 0 "
   ]
  },
  {
   "cell_type": "markdown",
   "metadata": {},
   "source": [
    "##### __METHOD 1: Serialize with Pickle__"
   ]
  },
  {
   "cell_type": "markdown",
   "metadata": {},
   "source": [
    "First, let's demonstrate how to serialize a model using the `pickle` package."
   ]
  },
  {
   "cell_type": "code",
   "execution_count": null,
   "metadata": {},
   "outputs": [],
   "source": [
    "pickle.dump(batt, open('model_save_pkl.pkl','wb'))\n",
    "load_pkl = pickle.load(open('model_save_pkl.pkl','rb'))"
   ]
  },
  {
   "cell_type": "markdown",
   "metadata": {},
   "source": [
    "##### __METHOD 2: Serialize with JSON__"
   ]
  },
  {
   "cell_type": "markdown",
   "metadata": {},
   "source": [
    "Next, let's demonstrate how to serialize a model using the `to_json` method."
   ]
  },
  {
   "cell_type": "code",
   "execution_count": null,
   "metadata": {},
   "outputs": [],
   "source": [
    "save_json = batt.to_json()"
   ]
  },
  {
   "cell_type": "markdown",
   "metadata": {},
   "source": [
    "We can call the model directly with the serialized result using the `from_json` method."
   ]
  },
  {
   "cell_type": "code",
   "execution_count": null,
   "metadata": {},
   "outputs": [],
   "source": [
    "serial_1 = Battery.from_json(save_json)"
   ]
  },
  {
   "cell_type": "markdown",
   "metadata": {},
   "source": [
    "Serialized result can also be saved to a text file and uploaded later using the following code:"
   ]
  },
  {
   "cell_type": "code",
   "execution_count": null,
   "metadata": {},
   "outputs": [],
   "source": [
    "txtFile = open(\"model_save_json.txt\", \"w\")\n",
    "txtFile.write(save_json)\n",
    "txtFile.close()\n",
    "\n",
    "with open('model_save_json.txt') as infile: \n",
    "    load_json = infile.read()\n",
    "\n",
    "serial_2 = Battery.from_json(load_json)"
   ]
  },
  {
   "cell_type": "markdown",
   "metadata": {},
   "source": [
    "### Comparing the simulations of the serialized models"
   ]
  },
  {
   "cell_type": "markdown",
   "metadata": {},
   "source": [
    "We can use ProgPy's [Simulation](https://nasa.github.io/progpy/prog_models_guide.html#simulation) methods to simulate the model to threshold and compare the results of the serializations.\n",
    "\n",
    "First, we'll need to define our [Future Loading Profile](https://nasa.github.io/progpy/prog_models_guide.html#future-loading)."
   ]
  },
  {
   "cell_type": "code",
   "execution_count": null,
   "metadata": {},
   "outputs": [],
   "source": [
    "def future_loading(t, x=None):\n",
    "    if (t < 600):\n",
    "        i = 3\n",
    "    elif (t < 1000):\n",
    "        i = 2\n",
    "    elif (t < 1500):\n",
    "        i = 1.5\n",
    "    else:\n",
    "        i = 4\n",
    "    return batt.InputContainer({'i': i})"
   ]
  },
  {
   "cell_type": "markdown",
   "metadata": {},
   "source": [
    "Now, let's simulate to threshold using the `simulate_to_threshold` method."
   ]
  },
  {
   "cell_type": "code",
   "execution_count": null,
   "metadata": {},
   "outputs": [],
   "source": [
    "results_orig = batt.simulate_to_threshold(future_loading, save_freq = 1)\n",
    "results_serial_1 = serial_1.simulate_to_threshold(future_loading, save_freq = 1)\n",
    "results_serial_2 = serial_2.simulate_to_threshold(future_loading, save_freq = 1)\n",
    "results_serial_3 = load_pkl.simulate_to_threshold(future_loading, save_freq = 1)"
   ]
  },
  {
   "cell_type": "markdown",
   "metadata": {},
   "source": [
    "Now, let's plot the results for comparison."
   ]
  },
  {
   "cell_type": "code",
   "execution_count": null,
   "metadata": {},
   "outputs": [],
   "source": [
    "voltage_orig = [results_orig.outputs[iter]['v'] for iter in range(len(results_orig.times))]\n",
    "voltage_serial_1 = [results_serial_1.outputs[iter]['v'] for iter in range(len(results_serial_1.times))]\n",
    "voltage_serial_2 = [results_serial_2.outputs[iter]['v'] for iter in range(len(results_serial_2.times))]\n",
    "voltage_serial_3 = [results_serial_3.outputs[iter]['v'] for iter in range(len(results_serial_3.times))]\n",
    "\n",
    "plt.plot(results_orig.times,voltage_orig,'-b',label='Original surrogate') \n",
    "plt.plot(results_serial_1.times,voltage_serial_1,'--r',label='First JSON serialized surrogate') \n",
    "plt.plot(results_serial_2.times,voltage_serial_2,'-.g',label='Second JSON serialized surrogate') \n",
    "plt.plot(results_serial_3.times, voltage_serial_3, '--y', label='Pickled serialized surrogate')\n",
    "plt.legend()\n",
    "plt.xlabel('Time (sec)')\n",
    "plt.ylabel('Voltage (volts)')"
   ]
  },
  {
   "cell_type": "markdown",
   "metadata": {},
   "source": [
    "Since there is some overlap on the graph, we can also determine that the results are the same by comparing the output arrays directly."
   ]
  },
  {
   "cell_type": "code",
   "execution_count": null,
   "metadata": {},
   "outputs": [],
   "source": [
    "import numpy as np\n",
    "\n",
    "# Check if the arrays are the same\n",
    "are_arrays_same = np.array_equal(voltage_orig, voltage_serial_1) and \\\n",
    "                  np.array_equal(voltage_orig, voltage_serial_2) and \\\n",
    "                  np.array_equal(voltage_orig, voltage_serial_3)\n",
    "\n",
    "print(f\"The simulated results from the original and serialized models are {'identical. This means that our serialization works!' if are_arrays_same else 'not identical. This means that our serialization does not work.'}!\")\n"
   ]
  },
  {
   "cell_type": "markdown",
   "metadata": {},
   "source": [
    "## Conclusion\n",
    "\n",
    "In this notebook, we explored how serialization can be used in ProgPy. We learned how to utilize the `pickle` module to serialize and deserialize ProgPy models. We also explored alternative serialization formats like JSON.\n",
    "\n",
    "Overall, understanding how to serialize and deserialize models can be a powerful tool for Prognostics developers. It allows you to save your models to disk and load them back into memory at a later time. "
   ]
  },
  {
   "cell_type": "markdown",
   "metadata": {},
   "source": [
    "For more information on ProgPy, please refer to the ProgPy [Documentation](https://nasa.github.io/progpy/)."
   ]
  }
 ],
 "metadata": {
  "kernelspec": {
   "display_name": "Python 3",
   "language": "python",
   "name": "python3"
  },
  "language_info": {
   "codemirror_mode": {
    "name": "ipython",
    "version": 3
   },
   "file_extension": ".py",
   "mimetype": "text/x-python",
   "name": "python",
   "nbconvert_exporter": "python",
   "pygments_lexer": "ipython3",
   "version": "3.11.4"
  },
  "orig_nbformat": 4
 },
 "nbformat": 4,
 "nbformat_minor": 2
}
