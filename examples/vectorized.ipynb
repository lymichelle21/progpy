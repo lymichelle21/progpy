{
 "cells": [
  {
   "cell_type": "markdown",
   "metadata": {},
   "source": [
    "# Welcome to the ProgPy Vectorized Example!"
   ]
  },
  {
   "cell_type": "markdown",
   "metadata": {},
   "source": [
    "In this Jupyter Notebook, we illustrate the use of the `simulate_to_threshold` function with vectorized states. This function allows us to simulate the behavior of a system until certain events or thresholds are met. \n",
    "\n",
    "For this demonstration, we use the `ThrownObject` model from the `progpy` library to simulate multiple thrown objects. Our scenario involves four different throwers, each with a unique strength and height.\n",
    "\n",
    "We will undertake the following steps:\n",
    "1. Set up the `ThrownObject` model.\n",
    "2. Define vectorized initial states for the four throwers.\n",
    "3. Use the `simulate_to_threshold` function to simulate the trajectory of the thrown objects until they hit the ground.\n",
    "\n",
    "Our primary goal here is to understand how `simulate_to_threshold` works in a vectorized setting, where we're dealing with multiple instances of a model at once.\n"
   ]
  },
  {
   "cell_type": "markdown",
   "metadata": {},
   "source": [
    "### Importing Modules"
   ]
  },
  {
   "cell_type": "code",
   "execution_count": null,
   "metadata": {},
   "outputs": [],
   "source": [
    "from numpy import array, all\n",
    "from progpy.models.thrown_object import ThrownObject\n",
    "import matplotlib.pyplot as plt\n",
    "import numpy as np"
   ]
  },
  {
   "cell_type": "markdown",
   "metadata": {},
   "source": [
    "First, we create an instance of the `ThrownObject` model. Since the objects are thrown and not subjected to any additional load, we define a `future_load` function that always returns an empty dictionary.\n"
   ]
  },
  {
   "cell_type": "code",
   "execution_count": null,
   "metadata": {},
   "outputs": [],
   "source": [
    "m = ThrownObject()\n",
    "def future_load(t, x=None):\n",
    "    return {}  # No load for thrown objects"
   ]
  },
  {
   "cell_type": "markdown",
   "metadata": {},
   "source": [
    "Next, we define the initial states for our simulation. These states are vectorized, meaning we're defining multiple states at once. In this case, we're simulating four different thrown objects, each with a unique initial position (`x`) and velocity (`v`)."
   ]
  },
  {
   "cell_type": "code",
   "execution_count": null,
   "metadata": {},
   "outputs": [],
   "source": [
    "first_state = {\n",
    "    'x': array([1.75, 1.8, 1.85, 1.9]),\n",
    "    'v': array([35, 39, 22, 47])\n",
    "}"
   ]
  },
  {
   "cell_type": "markdown",
   "metadata": {},
   "source": [
    "The simulate_to_threshold function allows us to simulate the trajectory of each thrown object until a certain threshold is met. Here, we're interested in the `impact` event, which signifies when an object hits the ground.\n",
    "\n",
    "In our first simulation, the function will stop as soon as any one of the objects hits the ground."
   ]
  },
  {
   "cell_type": "code",
   "execution_count": null,
   "metadata": {},
   "outputs": [],
   "source": [
    "(times, inputs, states, outputs, event_states) = m.simulate_to_threshold(future_load, x = first_state, threshold_keys=['impact'], print = True, dt=0.1, save_freq=2)"
   ]
  },
  {
   "cell_type": "markdown",
   "metadata": {},
   "source": [
    "We then redefine our threshold condition to stop only when all objects have hit the ground. We do this by defining a new function, `thresholds_met_eqn`, that checks if all `impact` events have occurred."
   ]
  },
  {
   "cell_type": "code",
   "execution_count": null,
   "metadata": {},
   "outputs": [],
   "source": [
    "def thresholds_met_eqn(thresholds_met):\n",
    "    return all(thresholds_met['impact'])  # Stop when all impact ground\n",
    "\n",
    "simulated_results = m.simulate_to_threshold(future_load, x = first_state, thresholds_met_eqn=thresholds_met_eqn, print = True, dt=0.1, save_freq=2)"
   ]
  },
  {
   "cell_type": "markdown",
   "metadata": {},
   "source": [
    "#### Plotting the Results"
   ]
  },
  {
   "cell_type": "code",
   "execution_count": null,
   "metadata": {},
   "outputs": [],
   "source": [
    "times, inputs, states, outputs, event_states = simulated_results\n",
    "\n",
    "# Extracting the positions and velocities from the states\n",
    "positions = np.array([state['x'] for state in states])\n",
    "velocities = np.array([state['v'] for state in states])\n",
    "\n",
    "# Plotting the position of each object over time\n",
    "plt.figure(figsize=(16, 6))\n",
    "for i in range(4):\n",
    "    plt.plot(times, positions[:, i], label=f'Object {i+1}')\n",
    "plt.xlabel('Time (s)')\n",
    "plt.ylabel('Position (units?)')\n",
    "plt.title('Position of Each Object Over Time')\n",
    "plt.legend()\n",
    "plt.grid(True)\n",
    "plt.show()\n",
    "\n",
    "# Plotting the velocity of each object over time\n",
    "plt.figure(figsize=(16, 6))\n",
    "for i in range(4):\n",
    "    plt.plot(times, velocities[:, i], label=f'Object {i+1}')\n",
    "plt.xlabel('Time (s)')\n",
    "plt.ylabel('Velocity (units/s?)')\n",
    "plt.title('Velocity of Each Object Over Time')\n",
    "plt.legend()\n",
    "plt.grid(True)\n",
    "plt.show()"
   ]
  },
  {
   "cell_type": "markdown",
   "metadata": {},
   "source": [
    "# Conclusion"
   ]
  },
  {
   "cell_type": "markdown",
   "metadata": {},
   "source": [
    "\n",
    "Through this notebook, we've successfully demonstrated the use of the `simulate_to_threshold` function in a vectorized setting. We used the `ThrownObject` model to simulate the trajectories of four distinct thrown objects, each with a unique initial state representing different thrower characteristics.\n",
    "\n",
    "Our simulation provided two different results: first, where the simulation stopped as soon as any object hit the ground, and second, where the simulation continued until all objects had impacted the ground.\n",
    "\n",
    "By leveraging the `simulate_to_threshold` function, we were able to simulate multiple scenarios at once, saving computational resources and allowing for a more efficient analysis. This function is particularly useful when dealing with a large number of similar objects or scenarios, demonstrating the potential of the `progpy` library for larger-scale simulations."
   ]
  },
  {
   "cell_type": "markdown",
   "metadata": {},
   "source": [
    "For more information, please refer to our ProgPy [Documentation](https://nasa.github.io/progpy/index.html)."
   ]
  }
 ],
 "metadata": {
  "kernelspec": {
   "display_name": "Python 3",
   "language": "python",
   "name": "python3"
  },
  "language_info": {
   "codemirror_mode": {
    "name": "ipython",
    "version": 3
   },
   "file_extension": ".py",
   "mimetype": "text/x-python",
   "name": "python",
   "nbconvert_exporter": "python",
   "pygments_lexer": "ipython3",
   "version": "3.9.2"
  },
  "orig_nbformat": 4
 },
 "nbformat": 4,
 "nbformat_minor": 2
}
