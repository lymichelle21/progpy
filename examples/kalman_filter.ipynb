{
 "cells": [
  {
   "cell_type": "markdown",
   "metadata": {},
   "source": [
    "# Welcome to ProgPy's Kalman Filter Example!"
   ]
  },
  {
   "cell_type": "markdown",
   "metadata": {},
   "source": [
    "In this example demonstrates use of the Kalman Filter, a [State Estimator](https://nasa.github.io/progpy/prog_algs_guide.html#state-estimation),  with a [LinearModel](https://nasa.github.io/progpy/api_ref/prog_models/LinearModel.html).\n",
    "\n",
    "The Kalman Filter (KF) is an optimal recursive computational algorithm designed to estimate the state of a linear dynamic system from noisy measurements. It is widely used in various applications, from robotics and aerospace to finance."
   ]
  },
  {
   "cell_type": "markdown",
   "metadata": {},
   "source": [
    "## How the Kalman Filter Works\n",
    "\n",
    "1. **Initialization**: The filter starts with an initial state estimate and an initial estimate of the uncertainty.\n",
    "2. **Measurement Update (Correction)**: Every time a new measurement is received, the KF performs an update to correct its current state estimate. \n",
    "    <font color='teal'>This correction is based on the difference between the predicted measurement and the actual received measurement, also known as the \"residual\". The amount of correction applied is determined by the Kalman gain, which itself is a function of the prediction and measurement uncertainties.</font>\n",
    "2. **Prediction**: The filter predicts the next state and uncertainty based on the system's dynamics. Based on the corrected state estimate and the system dynamics, the KF predicts what the state will be at the next time step. <font color='teal'>This prediction also increases the uncertainty because, without new measurements, we're relying solely on our model, which might not capture all the complexities of the real world.</font>\n",
    "3. **Update**: When a new measurement is available, the filter updates its state and uncertainty estimates based on the new data.\n"
   ]
  },
  {
   "cell_type": "markdown",
   "metadata": {},
   "source": [
    "## Kalman Filter in the ProgPy Package\n",
    "\n",
    "The Kalman Filter is designed to work with a `LinearModel`. The main components include:\n",
    "\n",
    "- **Model**: A prognostics model used in state estimation.\n",
    "- **Initial State**: Defined by the keys from `model.states`.\n",
    "- **Noise Matrices**:\n",
    "  - `Q`: Process Noise Matrix\n",
    "  - `R`: Measurement Noise Matrix\n",
    "- **Configuration Parameters**:\n",
    "  - `alpha`: Scaling parameter for the filter.\n",
    "  - `t0`: Starting time.\n",
    "  - `dt`: Maximum timestep for prediction."
   ]
  },
  {
   "cell_type": "markdown",
   "metadata": {},
   "source": [
    "### Importing Modules"
   ]
  },
  {
   "cell_type": "code",
   "execution_count": null,
   "metadata": {},
   "outputs": [],
   "source": [
    "from progpy.state_estimators import KalmanFilter\n",
    "from progpy.models import LinearThrownObject\n",
    "import matplotlib.pyplot as plt"
   ]
  },
  {
   "cell_type": "markdown",
   "metadata": {},
   "source": [
    "First, let's instantiate the model.\n"
   ]
  },
  {
   "cell_type": "code",
   "execution_count": null,
   "metadata": {},
   "outputs": [],
   "source": [
    "m = LinearThrownObject(process_noise = 0.1, measurement_noise = 0.1)"
   ]
  },
  {
   "cell_type": "markdown",
   "metadata": {},
   "source": [
    "Next we'll instantiate the Kalman Filter State Estimator and we'll define the initial state to be slightly off of actual"
   ]
  },
  {
   "cell_type": "code",
   "execution_count": null,
   "metadata": {},
   "outputs": [],
   "source": [
    "x_guess = m.StateContainer({'x': 5, 'v': 35}) # Guess of initial state\n",
    "# Note: actual is {'x': 1.83, 'v': 40}\n",
    "kf = KalmanFilter(m, x_guess)"
   ]
  },
  {
   "cell_type": "markdown",
   "metadata": {},
   "source": [
    "Before we run our Kalman Filter, let's define some constants that we'll use for our simulation method and the kalman filter itself. We'll also be instantiating a few empty lists that we'll use for plotting later on."
   ]
  },
  {
   "cell_type": "code",
   "execution_count": null,
   "metadata": {},
   "outputs": [],
   "source": [
    "dt = 0.01  # Time step (s)\n",
    "print_freq = 50  # Print every print_freq'th iteration\n",
    "x = m.initialize()\n",
    "u = m.InputContainer({})  # No input for this model\n",
    "\n",
    "# Initialize lists for plotting\n",
    "estimates_x = []\n",
    "truths_x = []\n",
    "diffs_x = []\n",
    "\n",
    "estimates_v = []\n",
    "truths_v = []\n",
    "diffs_v = []"
   ]
  },
  {
   "cell_type": "markdown",
   "metadata": {},
   "source": [
    "Here we're using simulated data from the thrown_object. In a real application you would be using sensor data from the system."
   ]
  },
  {
   "cell_type": "code",
   "execution_count": null,
   "metadata": {},
   "outputs": [],
   "source": [
    "for i in range(500):\n",
    "    # Get simulated output (would be measured in a real application)\n",
    "    z = m.output(x)\n",
    "\n",
    "    # Estimate New State\n",
    "    kf.estimate(i*dt, u, z)\n",
    "    x_est = kf.x.mean\n",
    "\n",
    "    # Print Results\n",
    "    if i%print_freq == 0:  # Print every print_freq'th iteration\n",
    "        print(f\"t: {i*dt:.2f}\\n\\tEstimate: {x_est}\\n\\tTruth: {x}\")\n",
    "        diff = {key: abs(x_est[key] - x[key]) for key in x.keys()}\n",
    "        print(f\"\\t Diff: {diff}\")\n",
    "        \n",
    "        # Append values for plotting\n",
    "        estimates_x.append(x_est['x'])\n",
    "        truths_x.append(x['x'])\n",
    "        diffs_x.append(diff['x'])\n",
    "\n",
    "        estimates_v.append(x_est['v'])\n",
    "        truths_v.append(x['v'])\n",
    "        diffs_v.append(diff['v'])\n",
    "\n",
    "    # Update Real state for next step\n",
    "    x = m.next_state(x, u, dt)"
   ]
  },
  {
   "cell_type": "markdown",
   "metadata": {},
   "source": [
    "Let's plot the results to visualize the difference! First, let's see the `x` values!"
   ]
  },
  {
   "cell_type": "code",
   "execution_count": null,
   "metadata": {},
   "outputs": [],
   "source": [
    "times = [i*dt for i in range(0, 500, print_freq)]\n",
    "\n",
    "# Plotting for 'x'\n",
    "plt.figure(figsize=(10, 5))\n",
    "plt.plot(times, estimates_x, label=\"Estimate x\", color='blue')\n",
    "plt.plot(times, truths_x, label=\"Truth x\", color='green')\n",
    "plt.plot(times, diffs_x, label=\"Difference x\", color='red', linestyle='--')\n",
    "plt.xlabel(\"Time\")\n",
    "plt.ylabel(\"x Value\")\n",
    "plt.legend()\n",
    "plt.title(\"Comparison of Estimate, Truth, and Difference for x\")\n",
    "plt.grid(True)\n",
    "plt.show()"
   ]
  },
  {
   "cell_type": "markdown",
   "metadata": {},
   "source": [
    "Now, let's take a look at the `v` values!"
   ]
  },
  {
   "cell_type": "code",
   "execution_count": null,
   "metadata": {},
   "outputs": [],
   "source": [
    "# Plotting for 'v'\n",
    "plt.figure(figsize=(10, 5))\n",
    "plt.plot(times, estimates_v, label=\"Estimate v\", color='blue')\n",
    "plt.plot(times, truths_v, label=\"Truth v\", color='green')\n",
    "plt.plot(times, diffs_v, label=\"Difference v\", color='red', linestyle='--')\n",
    "plt.xlabel(\"Time\")\n",
    "plt.ylabel(\"v Value\")\n",
    "plt.legend()\n",
    "plt.title(\"Comparison of Estimate, Truth, and Difference for v\")\n",
    "plt.grid(True)\n",
    "plt.show()"
   ]
  },
  {
   "cell_type": "markdown",
   "metadata": {},
   "source": [
    "In our simulation, the Kalman Filter is applied iteratively. At each time step, the filter predicts the new state, receives a measurement, updates its estimate, and then moves to the next time step. As observed, the difference between the estimated state and the true state decreases over time, indicating the filter's convergence."
   ]
  },
  {
   "cell_type": "markdown",
   "metadata": {},
   "source": [
    "### Conclusion"
   ]
  },
  {
   "cell_type": "markdown",
   "metadata": {},
   "source": [
    "The Kalman Filter is a powerful tool for state estimation in noisy environments. Given an initial state estimate and associated uncertainty, the filter processes measurements to continuously update its beliefs about the system's state. As more measurements are processed, the filter's state estimates become more accurate, often converging to the true state of the system. This behavior is evident in the provided code and simulation results."
   ]
  },
  {
   "cell_type": "markdown",
   "metadata": {},
   "source": [
    "For more information on, please view our ProgPy [Documentation](https://nasa.github.io/progpy/index.html)."
   ]
  }
 ],
 "metadata": {
  "kernelspec": {
   "display_name": "Python 3",
   "language": "python",
   "name": "python3"
  },
  "language_info": {
   "codemirror_mode": {
    "name": "ipython",
    "version": 3
   },
   "file_extension": ".py",
   "mimetype": "text/x-python",
   "name": "python",
   "nbconvert_exporter": "python",
   "pygments_lexer": "ipython3",
   "version": "3.9.2"
  },
  "orig_nbformat": 4
 },
 "nbformat": 4,
 "nbformat_minor": 2
}
