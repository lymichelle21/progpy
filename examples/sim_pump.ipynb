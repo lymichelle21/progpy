{
 "cells": [
  {
   "cell_type": "markdown",
   "metadata": {},
   "source": [
    "# Welcome to ProgPy's Sim Pump Example"
   ]
  },
  {
   "cell_type": "markdown",
   "metadata": {},
   "source": [
    "In this example notebook, we'll create a [Centrifugal Pump](https://nasa.github.io/progpy/api_ref/prog_models/IncludedModels.html#pump-model) model and use our [Simulation](https://nasa.github.io/progpy/prog_models_guide.html#simulation) methods to simulate until threshold is met."
   ]
  },
  {
   "cell_type": "markdown",
   "metadata": {},
   "source": [
    "This model simulates the behavior of a centrifugal pump as it operates and wears over time, leading to potential failures. There are four types of events that the model associates with failure:\n",
    "\n",
    "- `ImpellerWearFailure`: This event represents failure of the impeller due to wear.\n",
    "- `PumpOilOverheat`: This event occurs when the pump oil overheats.\n",
    "- `RadialBearingOverheat`: This event occurs when the radial bearing overheats.\n",
    "- `ThrustBearingOverheat`: This event occurs when the thrust bearing overheats."
   ]
  },
  {
   "cell_type": "markdown",
   "metadata": {},
   "source": [
    "### Importing Modules"
   ]
  },
  {
   "cell_type": "code",
   "execution_count": null,
   "metadata": {},
   "outputs": [],
   "source": [
    "from progpy.models import CentrifugalPump\n",
    "import matplotlib.pyplot as plt\n",
    "from progpy.sim_result import SimResult"
   ]
  },
  {
   "cell_type": "markdown",
   "metadata": {},
   "source": [
    "First, we'll need to define the Centrifugal Pump object."
   ]
  },
  {
   "cell_type": "code",
   "execution_count": null,
   "metadata": {},
   "outputs": [],
   "source": [
    "pump = CentrifugalPump(process_noise= 0)\n",
    "pump.parameters['x0']['wA'] = 0.01  # Setting Wear Rate"
   ]
  },
  {
   "cell_type": "markdown",
   "metadata": {},
   "source": [
    "In the `CentrifugalPumpBase` class of ProgPy, wear rates play a significant role in modeling the degradation and eventual failure of different components of the pump. These rates represent how quickly different parts of the pump wear down or degrade over time due to operation. Here's a closer look at each wear rate:\n",
    "\n",
    "- `wA`: This wear rate corresponds to the impeller area (`A`). It represents how quickly the impeller area degrades or wears down over time. <span style=\"color:teal\">The impeller is a crucial part of the pump as it imparts energy to the fluid, and wear on the impeller can affect the pump's efficiency and flow rate.<span>\n",
    "\n",
    "- `wRadial`: This wear rate is associated with the radial friction coefficient (`rRadial`). It represents how quickly friction in the radial bearings increases over time. <span style=\"color:teal\">The radial bearings support the weight of the shaft and impeller, and increased friction can lead to increased heat and wear on these components, potentially leading to bearing failure.<span>\n",
    "\n",
    "- `wThrust`: This wear rate pertains to the rolling friction coefficient (`rThrust`). It signifies how quickly friction in the thrust bearings increases over time. <span style=\"color:teal\">The thrust bearings help balance axial forces in the pump, and increased friction can lead to overheating and wear, potentially resulting in bearing failure.<span>\n",
    "\n",
    "These wear rates are incorporated into the model's state update equations, allowing the model to simulate not just the pump's behavior under normal operating conditions, but also how its performance will degrade over time due to wear. This makes the model a powerful tool for predicting when the pump might fail and planning maintenance to prevent such failures."
   ]
  },
  {
   "cell_type": "markdown",
   "metadata": {},
   "source": [
    "Next, let's define the [Future Load](https://nasa.github.io/progpy/prog_models_guide.html#future-loading) Function that we will use to simulate the pump."
   ]
  },
  {
   "cell_type": "code",
   "execution_count": null,
   "metadata": {},
   "outputs": [],
   "source": [
    "cycle_time = 3600\n",
    "def future_loading(t, x=None):\n",
    "    t = t % cycle_time\n",
    "    if t < cycle_time/2.0:\n",
    "        V = 471.2389\n",
    "    elif t < cycle_time/2 + 100:\n",
    "        V = 471.2389 + (t-cycle_time/2)\n",
    "    elif t < cycle_time - 100:\n",
    "        V = 571.2389\n",
    "    else:\n",
    "        V = 471.2398 - (t-cycle_time)\n",
    "\n",
    "    return pump.InputContainer({\n",
    "        'Tamb': 290,\n",
    "        'V': V,\n",
    "        'pdisch': 928654, \n",
    "        'psuc': 239179, \n",
    "        'wsync': V * 0.8\n",
    "    })"
   ]
  },
  {
   "cell_type": "markdown",
   "metadata": {},
   "source": [
    "The Future Load Function is a function that takes in the current state of the system and returns the future load on the system. In this case, the future load is the pump's flow rate (`Q`) and the pump's head (`H`). The pump's flow rate and head are determined by the pump's speed (`N`) and the pump's impeller diameter (`D`).\n",
    "\n",
    "Here, the Voltage is alternating depending on the cycle timer."
   ]
  },
  {
   "cell_type": "code",
   "execution_count": null,
   "metadata": {},
   "outputs": [],
   "source": [
    "import numpy as np\n",
    "\n",
    "# Define the time array\n",
    "t_values = np.arange(0, 2*cycle_time, 1) # Adjust the step size as needed\n",
    "\n",
    "# Calculate the corresponding voltage values\n",
    "V_values = [future_loading(t)['V'] for t in t_values]\n",
    "\n",
    "# Create the plot\n",
    "plt.figure(figsize=(10, 5))\n",
    "plt.plot(t_values, V_values)\n",
    "plt.xlabel('Time (s)')\n",
    "plt.ylabel('Voltage (V)')\n",
    "plt.title('Voltage vs Time')\n",
    "plt.grid(True)\n",
    "plt.show()"
   ]
  },
  {
   "cell_type": "markdown",
   "metadata": {},
   "source": [
    "In the `CentrifugalPumpBase` class of ProgPy, we have several inputs that represent the operating conditions of the pump. These inputs are crucial for simulating the pump's behavior accurately under various conditions. Here's a breakdown of each input:\n",
    "\n",
    "- `Tamb`: This is the ambient temperature, measured in Kelvin (K). It indicates the temperature of the surrounding environment where the pump is operating. \n",
    "\n",
    "- `V`: This stands for the voltage, measured in volts (V). This is the electrical potential difference that is applied to the pump's motor. Changes in voltage can affect the rotational speed and power of the pump.\n",
    "\n",
    "- `pdisch`: This is the discharge pressure, measured in Pascals (Pa). It represents the pressure of the fluid as it exits or is discharged from the pump. \n",
    "\n",
    "- `psuc`: This is the suction pressure, also measured in Pascals (Pa). It signifies the pressure of the fluid as it enters or is drawn into the pump.\n",
    "\n",
    "- `wsync`: This is the synchronous rotational speed of the supply voltage, measured in radians per second (rad/sec). It reflects the frequency of the electrical power supply which can influence the rotational speed of the pump's motor.\n",
    "\n",
    "In addition to these inputs, the model also accepts several keyword arguments representing various parameters of the pump. These parameters include atmospheric pressure (`pAtm`), empirical coefficients for the flow torque equation (`a0`, `a1`, `a2`), impeller blade area (`A`), and wear rates (`wA`, `wRadial`, `wThrust`)! These parameters are used within the model's equations to closely simulate the physical behavior of the pump."
   ]
  },
  {
   "cell_type": "markdown",
   "metadata": {},
   "source": [
    "With our future loading function defined, we can now use ProgPy's [Simulation](https://nasa.github.io/progpy/prog_models_guide.html#simulation) methods to simulate the pump until threshold is met.\n",
    "\n",
    "We need to define the first measured output. This is needed by the `simulate_to_threshold` method to initialize state!"
   ]
  },
  {
   "cell_type": "code",
   "execution_count": null,
   "metadata": {},
   "outputs": [],
   "source": [
    "first_output = pump.output(pump.initialize(future_loading(0),{}))\n",
    "config = {\n",
    "    'horizon': 1e5,\n",
    "    'save_freq': 1e3,\n",
    "    'print': True\n",
    "}\n",
    "simulated_results = pump.simulate_to_threshold(future_loading, first_output, **config)\n"
   ]
  },
  {
   "cell_type": "markdown",
   "metadata": {},
   "source": [
    "Furthermore, we can plot the results of our simulation!"
   ]
  },
  {
   "cell_type": "code",
   "execution_count": null,
   "metadata": {},
   "outputs": [],
   "source": [
    "simulated_results.inputs.plot(compact = False, title = 'Inputs', xlabel = 'time', ylabel = {lbl: lbl for lbl in pump.inputs}, tight_layout=True)\n",
    "simulated_results.outputs.plot(compact = False, title = 'Outputs', xlabel = 'time', ylabel = '', tight_layout=True)\n",
    "simulated_results.states.plot(compact = False, title = 'States', xlabel = 'time', ylabel = '', tight_layout=True)\n",
    "simulated_results.event_states.plot(compact = False, title = 'Events', xlabel = 'time', ylabel = '', tight_layout=True)\n",
    "\n",
    "thresholds_met = [pump.threshold_met(x) for x in simulated_results.states]\n",
    "thresholds_met = SimResult(simulated_results.times, thresholds_met)\n",
    "thresholds_met.plot(compact = False, title = 'Threshold Met', xlabel = 'time', ylabel = '', tight_layout=True)"
   ]
  }
 ],
 "metadata": {
  "kernelspec": {
   "display_name": "Python 3",
   "language": "python",
   "name": "python3"
  },
  "language_info": {
   "codemirror_mode": {
    "name": "ipython",
    "version": 3
   },
   "file_extension": ".py",
   "mimetype": "text/x-python",
   "name": "python",
   "nbconvert_exporter": "python",
   "pygments_lexer": "ipython3",
   "version": "3.11.4"
  },
  "orig_nbformat": 4
 },
 "nbformat": 4,
 "nbformat_minor": 2
}
