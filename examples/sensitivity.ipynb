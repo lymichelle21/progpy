{
 "cells": [
  {
   "cell_type": "markdown",
   "metadata": {},
   "source": [
    "# Welcome to ProgPy's Sensitivity Example Notebook! "
   ]
  },
  {
   "cell_type": "markdown",
   "metadata": {},
   "source": [
    "Sensitivity analysis is a method used to understand how different values of an independent variable will impact a particular dependent variable under a given set of assumptions. This technique is used within specific boundaries that depend on one or more input variables, such as the effect that changes in interest rates have on bond prices.\n",
    "\n",
    "In the context of a prognostic model, sensitivity analysis can help to understand how changes in model parameters or inputs affect the model's predictions. This is particularly useful for understanding the robustness of the model's predictions in the face of uncertainties in the model parameters or inputs."
   ]
  },
  {
   "cell_type": "markdown",
   "metadata": {},
   "source": [
    "In this notebook, we will be performing a sensitivity analysis on a new model."
   ]
  },
  {
   "cell_type": "markdown",
   "metadata": {},
   "source": [
    "### Importing Modules"
   ]
  },
  {
   "cell_type": "code",
   "execution_count": null,
   "metadata": {},
   "outputs": [],
   "source": [
    "import numpy as np\n",
    "# Deriv prog model was selected because the model can be described as x' = x + dx*dt\n",
    "from progpy.models.thrown_object import ThrownObject"
   ]
  },
  {
   "cell_type": "markdown",
   "metadata": {},
   "source": [
    "First, let's define our model. We will be using the ThrownObject model to demonstrate how to perform a sensitivity analysis."
   ]
  },
  {
   "cell_type": "code",
   "execution_count": null,
   "metadata": {},
   "outputs": [],
   "source": [
    "m = ThrownObject()"
   ]
  },
  {
   "cell_type": "markdown",
   "metadata": {},
   "source": [
    "Next, we'll need to define the parameters we want to vary in our sensitivity analysis. We'll be varying the thrower_height and throwing_speed parameters of the ThrownObject model. We'll also need to define the range of values we want to vary these parameters over."
   ]
  },
  {
   "cell_type": "code",
   "execution_count": null,
   "metadata": {},
   "outputs": [],
   "source": [
    "thrower_height_range = np.arange(1.2, 2.1, 0.1)"
   ]
  },
  {
   "cell_type": "markdown",
   "metadata": {},
   "source": [
    "Now we can simulate our object for each of the thrower heights that are defined in the previous cell! We'll store the results of each simulation in a list."
   ]
  },
  {
   "cell_type": "code",
   "execution_count": null,
   "metadata": {},
   "outputs": [],
   "source": [
    "event = 'impact'\n",
    "eods = np.empty(len(thrower_height_range))\n",
    "for (i, thrower_height) in zip(range(len(thrower_height_range)), thrower_height_range):\n",
    "    m.parameters['thrower_height'] = thrower_height\n",
    "    simulated_results = m.simulate_to_threshold(threshold_keys=[event], dt =1e-3, save_freq =10)\n",
    "    eods[i] = simulated_results.times[-1]"
   ]
  },
  {
   "cell_type": "markdown",
   "metadata": {},
   "source": [
    "Finally, we can now preform sensitivity analysis."
   ]
  },
  {
   "cell_type": "code",
   "execution_count": null,
   "metadata": {},
   "outputs": [],
   "source": [
    "print('For a reasonable range of heights, impact time is between {} and {}'.format(round(eods[0],3), round(eods[-1],3)))\n",
    "sensitivity = (eods[-1]-eods[0])/(thrower_height_range[-1] - thrower_height_range[0])\n",
    "print('  - Average sensitivity: {} s per cm height'.format(round(sensitivity/100, 6)))\n",
    "print(\"  - It seems impact time is not very sensitive to thrower's height\")"
   ]
  },
  {
   "cell_type": "markdown",
   "metadata": {},
   "source": [
    "What we are doing here is very simple. We are looping through each of the results of our simulations, and calculating the difference between the time of impact of the thrown object and the time of impact of the thrown object when the thrower_height is 1.83 meters. This is the sensitivity of the model's predictions to changes in the thrower_height parameter.\n",
    "\n",
    "We do this by taking the difference in impact times between the maximum and minimum thrower heights `(eods[-1]-eods[0])`, and dividing this by the difference in thrower heights `(thrower_height_range[-1] - thrower_height_range[0])`. The result is a measure of how much the impact time changes, on average, for a unit change in thrower height."
   ]
  },
  {
   "cell_type": "markdown",
   "metadata": {},
   "source": [
    "Let's try another example. This time, we'll vary the throwing_speed parameter of the ThrownObject model."
   ]
  },
  {
   "cell_type": "code",
   "execution_count": null,
   "metadata": {},
   "outputs": [],
   "source": [
    "# We'll be using the same model.\n",
    "throw_speed_range = np.arange(20, 40, 1)\n",
    "eods = np.empty(len(throw_speed_range))\n",
    "for (i, throw_speed) in zip(range(len(throw_speed_range)), throw_speed_range):\n",
    "    m.parameters['throwing_speed'] = throw_speed\n",
    "    simulated_results = m.simulate_to_threshold(threshold_keys=[event], options={'dt':1e-3, 'save_freq':10})\n",
    "    eods[i] = simulated_results.times[-1]\n",
    "\n",
    "\n",
    "# Analysis\n",
    "print('\\nFor a reasonable range of throwing speeds, impact time is between {} and {}'.format(round(eods[0],3), round(eods[-1],3)))\n",
    "sensitivity = (eods[-1]-eods[0])/(throw_speed_range[-1] - throw_speed_range[0])\n",
    "print('  - Average sensitivity: {} s per m/s speed'.format(round(sensitivity/100, 6)))\n",
    "print(\"  - It seems impact time is much more dependent on throwing speed\")"
   ]
  },
  {
   "cell_type": "markdown",
   "metadata": {},
   "source": [
    "In a similar fashion, we are taking the difference between the maximum and minimum impact times `(eods[-1]-eods[0])`, and dividing this by the difference in throwing speeds `(throwing_speed_range[-1] - throwing_speed_range[0])`. The result is a measure of how much the impact time changes, on average, for a unit change in throwing speed."
   ]
  },
  {
   "cell_type": "markdown",
   "metadata": {},
   "source": [
    "### Conclusion"
   ]
  },
  {
   "cell_type": "markdown",
   "metadata": {},
   "source": [
    "The sensitivity analysis was performed by systematically varying the `thrower_height` and `throwing_speed` parameters of the `ThrownObject` model. The model's predictions (e.g., the time of impact of the thrown object) were then recorded for each set of parameters, and the sensitivity of the model's predictions to changes in these parameters was assessed.\n",
    "\n",
    "For more information on ProgPy and its capabilities, please visit the [ProgPy documentation](https://nasa.github.io/progpy/)."
   ]
  }
 ],
 "metadata": {
  "kernelspec": {
   "display_name": "Python 3",
   "language": "python",
   "name": "python3"
  },
  "language_info": {
   "codemirror_mode": {
    "name": "ipython",
    "version": 3
   },
   "file_extension": ".py",
   "mimetype": "text/x-python",
   "name": "python",
   "nbconvert_exporter": "python",
   "pygments_lexer": "ipython3",
   "version": "3.11.4"
  },
  "orig_nbformat": 4
 },
 "nbformat": 4,
 "nbformat_minor": 2
}
