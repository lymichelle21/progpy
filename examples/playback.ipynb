{
 "cells": [
  {
   "cell_type": "markdown",
   "metadata": {},
   "source": [
    "# Welcome to the ProgPy Playback Example!"
   ]
  },
  {
   "cell_type": "markdown",
   "metadata": {},
   "source": [
    "# Introduction\n",
    "\n",
    "In this Jupyter Notebook, we demonstrate the application of state estimation and prediction using playback data with the help of the `progpy` library. Our model utilizes the [BatteryCircuit](https://nasa.github.io/progpy/api_ref/prog_models/IncludedModels.html#battery-model) model from the library to set the stage for our analysis.\n",
    "\n",
    "Method: An instance of the `BatteryCircuit` model in progpy is created, the state estimation is set up by defining a state_estimator, and the prediction method is set up by defining a predictor.\n",
    "        Prediction is then performed using playback data. For each data point:\n",
    "1) The necessary data is extracted (time, current load, output values) and corresponding values defined (t, i, and z)\n",
    "2) The current state estimate is performed and samples are drawn from this distribution\n",
    "3) Prediction performed to get future states (with uncertainty) and the times at which the event threshold will be reached\n",
    "\n",
    "\n",
    "By the end of this process, we anticipate having the following results:\n",
    "1. Predicted future values (inputs, states, outputs, event_states) with an associated uncertainty.\n",
    "2. The time of event occurrence with an associated uncertainty.\n",
    "3. Various prediction metrics.\n",
    "4. Illustrative figures representing our results.\n"
   ]
  },
  {
   "cell_type": "markdown",
   "metadata": {},
   "source": [
    "### Importing Modules"
   ]
  },
  {
   "cell_type": "code",
   "execution_count": null,
   "metadata": {},
   "outputs": [],
   "source": [
    "import csv\n",
    "import numpy as np\n",
    "from progpy.predictors import ToEPredictionProfile\n",
    "from progpy.uncertain_data.multivariate_normal_dist import MultivariateNormalDist\n",
    "from progpy.models import BatteryCircuit as Battery\n",
    "from progpy.state_estimators import UnscentedKalmanFilter as StateEstimator\n",
    "from progpy.predictors import UnscentedTransformPredictor as Predictor"
   ]
  },
  {
   "cell_type": "markdown",
   "metadata": {},
   "source": [
    "Furthermore, let's set up some constants that we'll use later on:"
   ]
  },
  {
   "cell_type": "code",
   "execution_count": null,
   "metadata": {},
   "outputs": [],
   "source": [
    "# Constants\n",
    "NUM_SAMPLES = 20\n",
    "NUM_PARTICLES = 1000 # For state estimator (if using ParticleFilter)\n",
    "TIME_STEP = 1\n",
    "PREDICTION_UPDATE_FREQ = 50 # Number of steps between prediction update\n",
    "PLOT = True\n",
    "PROCESS_NOISE = 1e-4 # Percentage process noise\n",
    "MEASUREMENT_NOISE = 1e-4 # Percentage measurement noise\n",
    "X0_COV = 1 # Covariance percentage with initial state\n",
    "GROUND_TRUTH = {'EOD':2780}\n",
    "ALPHA = 0.05\n",
    "BETA = 0.90\n",
    "LAMBDA_VALUE = 1500"
   ]
  },
  {
   "cell_type": "markdown",
   "metadata": {},
   "source": [
    "First, we set up our model using the `BatteryCircuit` class."
   ]
  },
  {
   "cell_type": "code",
   "execution_count": null,
   "metadata": {},
   "outputs": [],
   "source": [
    "batt = Battery()"
   ]
  },
  {
   "cell_type": "markdown",
   "metadata": {},
   "source": [
    "We then initialize our model's state and specify the process and measurement noise parameters based on the initial state values."
   ]
  },
  {
   "cell_type": "code",
   "execution_count": null,
   "metadata": {},
   "outputs": [],
   "source": [
    "x0 = batt.initialize()\n",
    "batt.parameters['process_noise'] = {key: PROCESS_NOISE * value for key, value in x0.items()}\n",
    "z0 = batt.output(x0)\n",
    "batt.parameters['measurement_noise'] = {key: MEASUREMENT_NOISE * value for key, value in z0.items()}"
   ]
  },
  {
   "cell_type": "markdown",
   "metadata": {},
   "source": [
    "The initial state is assumed to follow a multivariate normal distribution, with the covariance being a certain percentage of the absolute values of the initial states."
   ]
  },
  {
   "cell_type": "code",
   "execution_count": null,
   "metadata": {},
   "outputs": [],
   "source": [
    "x0 = MultivariateNormalDist(x0.keys(), list(x0.values()), np.diag([max(1e-9, X0_COV * abs(x)) for x in x0.values()]))"
   ]
  },
  {
   "cell_type": "markdown",
   "metadata": {},
   "source": [
    "Next, we set up our state estimation using the `UnscentedKalmanFilter` method (or `ParticleFilter` method depending on the commented code). This method takes in our model, initial state, and the number of particles."
   ]
  },
  {
   "cell_type": "code",
   "execution_count": null,
   "metadata": {},
   "outputs": [],
   "source": [
    "filt = StateEstimator(batt, x0, num_particles = NUM_PARTICLES)"
   ]
  },
  {
   "cell_type": "markdown",
   "metadata": {},
   "source": [
    "Finally, before we run our playback, we set up our prediction using the `UnscentedTransformPredictor` method (or `MonteCarlo` method depending on the commented code). We define the future load function to return a constant load, and we compute matrices `Q` and `R` based on the process noise and measurement noise parameters, respectively."
   ]
  },
  {
   "cell_type": "code",
   "execution_count": null,
   "metadata": {},
   "outputs": [],
   "source": [
    "load = batt.InputContainer({'i': 2.35})\n",
    "def future_loading(t, x=None):\n",
    "    return load\n",
    "Q = np.diag([batt.parameters['process_noise'][key] for key in batt.states])\n",
    "R = np.diag([batt.parameters['measurement_noise'][key] for key in batt.outputs])\n",
    "mc = Predictor(batt, Q = Q, R = R)"
   ]
  },
  {
   "cell_type": "markdown",
   "metadata": {},
   "source": [
    "### Running Playback"
   ]
  },
  {
   "cell_type": "markdown",
   "metadata": {},
   "source": [
    "We start by initializing a step counter and creating an instance of `ToEPredictionProfile`."
   ]
  },
  {
   "cell_type": "code",
   "execution_count": null,
   "metadata": {},
   "outputs": [],
   "source": [
    "step = 0\n",
    "profile = ToEPredictionProfile()"
   ]
  },
  {
   "cell_type": "markdown",
   "metadata": {},
   "source": [
    "Next, we open our data file (`data_const_load.csv`) and read it line by line. For each line, we extract the time, current, temperature, and voltage. These values are then used to perform state estimation and, at certain intervals, prediction."
   ]
  },
  {
   "cell_type": "code",
   "execution_count": null,
   "metadata": {},
   "outputs": [],
   "source": [
    "with open('data_const_load.csv', 'r') as f:\n",
    "    reader = csv.reader(f)\n",
    "    next(reader) # Skip header\n",
    "    for row in reader:\n",
    "        step += 1\n",
    "        print(\"{} s: {} W, {} C, {} V\".format(*row))\n",
    "        t = float(row[0])\n",
    "        i = {'i': float(row[1])/float(row[3])}\n",
    "        z = {'t': float(row[2]), 'v': float(row[3])}\n",
    "\n",
    "        # State Estimation Step\n",
    "        filt.estimate(t, i, z) \n",
    "        eod = batt.event_state(filt.x.mean)['EOD']\n",
    "        print(\"  - Event State: \", eod)\n",
    "\n",
    "        # Prediction Step (every PREDICTION_UPDATE_FREQ steps)\n",
    "        if (step%PREDICTION_UPDATE_FREQ == 0):\n",
    "            mc_results = mc.predict(filt.x, future_loading, t0 = t, n_samples=NUM_SAMPLES, dt=TIME_STEP)\n",
    "            metrics = mc_results.time_of_event.metrics()\n",
    "            print('  - ToE: {} (sigma: {})'.format(metrics['EOD']['mean'], metrics['EOD']['std']))\n",
    "            profile.add_prediction(t, mc_results.time_of_event)\n"
   ]
  },
  {
   "cell_type": "markdown",
   "metadata": {},
   "source": [
    "After completing the loop, we calculate various metrics such as the Prognostic Horizon, Alpha Lambda, and Cumulative Relative Accuracy. We also generate plots to illustrate the playback results."
   ]
  },
  {
   "cell_type": "code",
   "execution_count": null,
   "metadata": {},
   "outputs": [],
   "source": [
    "# Calculating Prognostic Horizon once the loop completes\n",
    "from progpy.uncertain_data.uncertain_data import UncertainData\n",
    "from progpy.metrics import samples as metrics\n",
    "\n",
    "def criteria_eqn(tte : UncertainData, ground_truth_tte : dict) -> dict:\n",
    "    \"\"\"\n",
    "    Sample criteria equation for playback. \n",
    "    # UPDATE THIS CRITERIA EQN AND WHAT IS CALCULATED\n",
    "\n",
    "    Args:\n",
    "        tte : UncertainData\n",
    "            Time to event in UncertainData format.\n",
    "        ground_truth_tte : dict\n",
    "            Dictionary of ground truth of time to event.\n",
    "    \"\"\"\n",
    "\n",
    "    # Set an alpha value\n",
    "    bounds = {}\n",
    "    for key, value in ground_truth_tte.items():\n",
    "        # Set bounds for percentage_in_bounds by adding/subtracting to the ground_truth\n",
    "        alpha_calc = value * ALPHA\n",
    "        bounds[key] = [value - alpha_calc, value + alpha_calc] # Construct bounds for all events\n",
    "    percentage_in_bounds = tte.percentage_in_bounds(bounds)\n",
    "\n",
    "    # Verify if percentage in bounds for this ground truth meets beta distribution percentage limit\n",
    "    return {key: percentage_in_bounds[key] > BETA for key in percentage_in_bounds.keys()}\n",
    "\n",
    "# Generate plots for playback example\n",
    "playback_plots = profile.plot(GROUND_TRUTH, ALPHA, True)\n",
    "\n",
    "# Calculate prognostic horizon with ground truth, and print\n",
    "ph = profile.prognostic_horizon(criteria_eqn, GROUND_TRUTH)\n",
    "print(f\"Prognostic Horizon for 'EOD': {ph['EOD']}\")\n",
    "\n",
    "# Calculate alpha lambda with ground truth, lambda, alpha, and beta, and print\n",
    "al = profile.alpha_lambda(GROUND_TRUTH, LAMBDA_VALUE, ALPHA, BETA)\n",
    "print(f\"Alpha Lambda for 'EOD': {al['EOD']}\")\n",
    "\n",
    "# Calculate cumulative relative accuracy with ground truth, and print\n",
    "cra = profile.cumulative_relative_accuracy(GROUND_TRUTH)\n",
    "print(f\"Cumulative Relative Accuracy for 'EOD': {cra['EOD']}\")\n"
   ]
  },
  {
   "cell_type": "markdown",
   "metadata": {},
   "source": [
    "## Conclusion"
   ]
  },
  {
   "cell_type": "markdown",
   "metadata": {},
   "source": [
    "Through this notebook, we have successfully implemented state estimation and prediction using playback data. Utilizing the `BatteryCircuit` model from the `progpy` library, we were able to estimate and predict states by iterating through our playback data.\n",
    "\n",
    "Our results include the predicted future values (inputs, states, outputs, and event_states) with their associated uncertainty, the predicted time of event occurrence, various prediction metrics, and illustrative figures.\n",
    "\n",
    "Our final results, such as the prediction of the 'EOD' (End of Discharge) event, provide valuable insights into the performance of our battery system."
   ]
  },
  {
   "cell_type": "markdown",
   "metadata": {},
   "source": [
    "For more information, please refer to our ProgPy [Documentation](https://nasa.github.io/progpy/index.html)."
   ]
  }
 ],
 "metadata": {
  "kernelspec": {
   "display_name": "Python 3",
   "language": "python",
   "name": "python3"
  },
  "language_info": {
   "codemirror_mode": {
    "name": "ipython",
    "version": 3
   },
   "file_extension": ".py",
   "mimetype": "text/x-python",
   "name": "python",
   "nbconvert_exporter": "python",
   "pygments_lexer": "ipython3",
   "version": "3.9.2"
  },
  "orig_nbformat": 4
 },
 "nbformat": 4,
 "nbformat_minor": 2
}
