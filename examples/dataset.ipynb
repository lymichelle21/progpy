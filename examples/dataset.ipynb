{
 "cells": [
  {
   "cell_type": "markdown",
   "metadata": {},
   "source": [
    "# Welcome to the ProgPy Dataset Example!"
   ]
  },
  {
   "cell_type": "markdown",
   "metadata": {},
   "source": [
    "In this notebook, we will illustrate the process of downloading and analyzing a battery dataset from NASA's Prognostics Center of Excellence (PCoE) data repository. We will specifically focus on visualizing the current and voltage profiles of a battery over time.\n",
    "\n",
    "The steps we will follow are:\n",
    "\n",
    "1. Download and import the dataset.\n",
    "2. Access the dataset description.\n",
    "3. Access and plot the dataset data."
   ]
  },
  {
   "cell_type": "markdown",
   "metadata": {},
   "source": [
    "### Importing Modules"
   ]
  },
  {
   "cell_type": "code",
   "execution_count": null,
   "metadata": {},
   "outputs": [],
   "source": [
    "import matplotlib.pyplot as plt\n",
    "import pickle\n",
    "from progpy.datasets import nasa_battery\n",
    "# Setting Constant\n",
    "DATASET_ID = 1"
   ]
  },
  {
   "cell_type": "markdown",
   "metadata": {},
   "source": [
    "In the first step, we'll download the dataset for a single battery from NASA's Prognostics Center of Excellence (PCoE) data repository. This may take some time depending on the network speed.\n",
    "\n",
    "For future use and to avoid re-downloading the dataset, we save it to the disk using the Python's built-in `pickle` module. We can easily load this saved data for subsequent analyses."
   ]
  },
  {
   "cell_type": "code",
   "execution_count": null,
   "metadata": {},
   "outputs": [],
   "source": [
    "(desc, data) = nasa_battery.load_data(DATASET_ID)\n",
    "pickle.dump((desc, data), open(f'dataset_{DATASET_ID}.pkl', 'wb'))"
   ]
  },
  {
   "cell_type": "markdown",
   "metadata": {},
   "source": [
    "Next, we'll access and print the description of the dataset. This description includes details about the dataset and the procedure followed to collect it. Understanding this description is crucial as it provides context for the data and can help guide subsequent analyses."
   ]
  },
  {
   "cell_type": "code",
   "execution_count": null,
   "metadata": {},
   "outputs": [],
   "source": [
    "print(f'\\nDataset {DATASET_ID}')\n",
    "print(desc['description'])\n",
    "print(f'Procedure: {desc[\"procedure\"]}')"
   ]
  },
  {
   "cell_type": "markdown",
   "metadata": {},
   "source": [
    "In this step, we access the data in the dataset and analyze a specific run. We understand that the data is in the format `[run_id][time][variable]`, which makes it easy to access specific aspects of the data.\n",
    "\n",
    "We specifically focus on the `current` and `voltage` profiles of the battery for the fourth run in the dataset. We create a two-panel subplot, with the top panel showing the current over time and the bottom panel showing the voltage over time.\n",
    "\n",
    "Lastly, we graph all the reference discharge profiles available in the dataset. These are the profiles where the battery was discharged without any rest. We plot the voltage over time for each of these profiles. Understanding these profiles can give us insights into how the battery performs under continuous discharge."
   ]
  },
  {
   "cell_type": "code",
   "execution_count": null,
   "metadata": {},
   "outputs": [],
   "source": [
    "print(f'\\nNumber of runs: {len(data)}')\n",
    "print(f'\\nAnalyzing run 4')\n",
    "print(f'number of time indices: {len(data[4])}')\n",
    "print(f\"Details of run 4: {desc['runs'][4]}\")"
   ]
  },
  {
   "cell_type": "markdown",
   "metadata": {},
   "source": [
    "Let's plot the run and graph all reference discharge profiles"
   ]
  },
  {
   "cell_type": "code",
   "execution_count": null,
   "metadata": {},
   "outputs": [],
   "source": [
    "# Plot the run\n",
    "plt.figure()\n",
    "plt.subplot(2, 1, 1)\n",
    "plt.plot(data[4]['relativeTime'], data[4]['current'])\n",
    "plt.ylabel('Current (A)')\n",
    "\n",
    "plt.subplot(2, 1, 2)\n",
    "plt.plot(data[4]['relativeTime'], data[4]['voltage'])\n",
    "plt.ylabel('Voltage (V)')\n",
    "plt.xlabel('Time (s)')\n",
    "plt.title('Run 4')\n",
    "\n",
    "# Graph all reference discharge profiles\n",
    "indices = [i for i, x in enumerate(desc['runs']) if 'reference discharge' in x['desc'] and 'rest' not in x['desc']]\n",
    "plt.figure()\n",
    "for i in indices:\n",
    "    plt.plot(data[i]['relativeTime'], data[i]['voltage'], label=f\"Run {i}\")\n",
    "plt.title('Reference discharge profiles')\n",
    "plt.xlabel('Time (s)')\n",
    "plt.ylabel('Voltage (V)')\n",
    "plt.show()"
   ]
  },
  {
   "cell_type": "markdown",
   "metadata": {},
   "source": [
    "## Conclusion"
   ]
  },
  {
   "cell_type": "markdown",
   "metadata": {},
   "source": [
    "In this notebook, we demonstrated how to download a battery dataset from NASA's PCoE data repository, read the dataset's description, and access its data. We visualized the current and voltage profiles of a particular battery run, and plotted the voltage profiles for all reference discharge profiles.\n",
    "\n",
    "This approach provides a robust method for conducting preliminary data analysis on prognostic datasets. These insights are crucial for designing prognostic models and understanding system behavior."
   ]
  },
  {
   "cell_type": "markdown",
   "metadata": {},
   "source": [
    "For more ProgPy related information, please refer to our ProgPy [Documentation](https://nasa.github.io/progpy/)."
   ]
  }
 ],
 "metadata": {
  "kernelspec": {
   "display_name": "Python 3",
   "language": "python",
   "name": "python3"
  },
  "language_info": {
   "codemirror_mode": {
    "name": "ipython",
    "version": 3
   },
   "file_extension": ".py",
   "mimetype": "text/x-python",
   "name": "python",
   "nbconvert_exporter": "python",
   "pygments_lexer": "ipython3",
   "version": "3.9.2"
  },
  "orig_nbformat": 4
 },
 "nbformat": 4,
 "nbformat_minor": 2
}
