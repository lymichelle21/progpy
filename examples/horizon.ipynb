{
 "cells": [
  {
   "cell_type": "markdown",
   "metadata": {},
   "source": [
    "# Welcome to ProgPy's Horizon Example Notebook! "
   ]
  },
  {
   "cell_type": "markdown",
   "metadata": {},
   "source": [
    "This example performs a state estimation and prediction with uncertainty given a Prognostics Model with a specific prediction horizon. This prediction horizon marks the end of the \"time of interest\" for the prediction. Often this represents the end of a mission or sufficiently in the future where the user is unconcerned with the events that occur after this time.\n",
    "\n",
    "__Method: An instance of the [ThrownObject](https://nasa.github.io/progpy/api_ref/prog_models/IncludedModels.html#thrownobject) model in ProgPy is created, and the prediction process is achieved in two steps:__\n",
    "1) State estimation of the current state is performed using a chosen state_estimator, and samples are drawn from this estimate\n",
    "2) Prediction of future states (with uncertainty) and the times at which the event thresholds will be reached, within the prediction horizon. All events outside the horizon come back as None and are ignored in metrics\n",
    "\n",
    "__Results:__\n",
    "- Predicted future values (inputs, states, outputs, event_states) with uncertainty from prediction\n",
    "- Time event is predicted to occur (with uncertainty)"
   ]
  },
  {
   "cell_type": "markdown",
   "metadata": {},
   "source": [
    "### Importing Modules"
   ]
  },
  {
   "cell_type": "code",
   "execution_count": 1,
   "metadata": {},
   "outputs": [],
   "source": [
    "from progpy.models.thrown_object import ThrownObject\n",
    "from progpy import *\n",
    "from pprint import pprint"
   ]
  },
  {
   "cell_type": "markdown",
   "metadata": {},
   "source": [
    "First, let's define our model! We'll define a `ThrownObject` model with `process_noise` and `measurement_noise` set to 0.25 and 0.2 respectively."
   ]
  },
  {
   "cell_type": "code",
   "execution_count": 2,
   "metadata": {},
   "outputs": [],
   "source": [
    "m = ThrownObject(process_noise = 0.25, measurement_noise = 0.2)"
   ]
  },
  {
   "cell_type": "markdown",
   "metadata": {},
   "source": [
    "To perform state estimation of the current state, we'll utilize the `ParticleFilter` state estimator. Before we call state estimator, we'll need to pass the current state and the number of particles to the estimator. We'll set the number of particles to 1000."
   ]
  },
  {
   "cell_type": "code",
   "execution_count": 3,
   "metadata": {},
   "outputs": [],
   "source": [
    "initial_state = m.initialize()\n",
    "NUM_SAMPLES = 1000\n",
    "\n",
    "# Pass the initial state and number of samples to our particle filter\n",
    "filt = state_estimators.ParticleFilter(m, initial_state, num_particles = NUM_SAMPLES)"
   ]
  },
  {
   "cell_type": "markdown",
   "metadata": {},
   "source": [
    "Let's estimate what our `filt` object "
   ]
  }
 ],
 "metadata": {
  "kernelspec": {
   "display_name": "Python 3",
   "language": "python",
   "name": "python3"
  },
  "language_info": {
   "codemirror_mode": {
    "name": "ipython",
    "version": 3
   },
   "file_extension": ".py",
   "mimetype": "text/x-python",
   "name": "python",
   "nbconvert_exporter": "python",
   "pygments_lexer": "ipython3",
   "version": "3.9.2"
  },
  "orig_nbformat": 4
 },
 "nbformat": 4,
 "nbformat_minor": 2
}
