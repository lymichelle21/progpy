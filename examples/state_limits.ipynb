{
 "cells": [
  {
   "cell_type": "markdown",
   "metadata": {},
   "source": [
    "# Welcome to ProgPy's State Limits Example Notebook!"
   ]
  },
  {
   "cell_type": "markdown",
   "metadata": {},
   "source": [
    "In this notebook, we will demonstrate when and how to identify model state limits for use in state-transition models. We'll use a `ThrownObject` model to demonstrate the feature!\n"
   ]
  },
  {
   "cell_type": "markdown",
   "metadata": {},
   "source": [
    "The `ThrownObject` model is a simple non-linear model that simulates an object being thrown into the air with air resistance taken into account. \n",
    "\n",
    "This model has two states:\n",
    "\n",
    "1) `x` : The velocity in space __(meters per second)__\n",
    "2) `v` : The position in space __(meters)__\n",
    "\n",
    "Let's break down each state:\n",
    "\n",
    "- __Position (x)__: This represents the current height of the object in space. It's measured in meters. When the object is first thrown, the position would be the height of the thrower. <span style=\"color:teal\">As the object ascends and then descends, the position changes accordingly.<span>\n",
    "\n",
    "- __Velocity (v)__: This represents the speed and direction of the object. It's measured in meters per second. When the object is first thrown, its velocity would be equal to the throwing speed.<span style=\"color:teal\"> As the object rises and falls, the velocity changes. Specifically, while the object is rising and overcoming gravity, the velocity will decrease until it reaches zero at the peak of the trajectory. Then, as the object falls, the velocity will increase in the opposite direction.<span>"
   ]
  },
  {
   "cell_type": "markdown",
   "metadata": {},
   "source": [
    "### Importing Modules"
   ]
  },
  {
   "cell_type": "code",
   "execution_count": null,
   "metadata": {},
   "outputs": [],
   "source": [
    "from math import inf\n",
    "from progpy.models.thrown_object import ThrownObject"
   ]
  },
  {
   "cell_type": "markdown",
   "metadata": {},
   "source": [
    "First, we'll need to create an instance of our model. We'll be initalizing the model without any drag."
   ]
  },
  {
   "cell_type": "code",
   "execution_count": null,
   "metadata": {},
   "outputs": [],
   "source": [
    "m = ThrownObject(cd = 0)"
   ]
  },
  {
   "cell_type": "markdown",
   "metadata": {},
   "source": [
    "Before we add state limits to our model, let's take a look at the results when there  are none!"
   ]
  },
  {
   "cell_type": "code",
   "execution_count": null,
   "metadata": {},
   "outputs": [],
   "source": [
    "event = 'impact'\n",
    "simulated_results = m.simulate_to_threshold(threshold_keys=[event], dt=0.005, save_freq=1)\n",
    "\n",
    "print('Example: No State Limits')\n",
    "for i, state in enumerate(simulated_results.states):\n",
    "    print(f'State {i}: {state}')\n",
    "print()"
   ]
  },
  {
   "cell_type": "markdown",
   "metadata": {},
   "source": [
    "Notice that at the end of the simulation, the object's position is negative. Typically, when the `ThrownObject` object reaches the ground, the position simply be __0__. However, in this case, the position is negative. This is not a realistic result, so we'll need to add state limits to prevent this from happening."
   ]
  },
  {
   "cell_type": "markdown",
   "metadata": {},
   "source": [
    "This can be done by changing the `state_limits` attribute of the model. The `state_limits` attribute is a dictionary that contains the state limits for each state. The keys of the dictionary are the state names, and the values are tuples that contain the lower and upper limits of the state."
   ]
  },
  {
   "cell_type": "code",
   "execution_count": null,
   "metadata": {},
   "outputs": [],
   "source": [
    "m.state_limits = {\n",
    "    # object may not go below ground height\n",
    "    'x': (0, inf),\n",
    "\n",
    "    # object may not exceed the speed of light\n",
    "    'v': (-299792458, 299792458)\n",
    "}"
   ]
  },
  {
   "cell_type": "markdown",
   "metadata": {},
   "source": [
    "With our newly defined future loading function and our state limits defined, let's call the ProgPy's [Simulation](https://nasa.github.io/progpy/prog_models_guide.html#simulation) methods to simulate our model!"
   ]
  },
  {
   "cell_type": "code",
   "execution_count": null,
   "metadata": {},
   "outputs": [],
   "source": [
    "event = 'impact'\n",
    "simulated_results = m.simulate_to_threshold(threshold_keys=[event], dt=0.005, save_freq=1)\n",
    "\n",
    "print('Example: With State Limits')\n",
    "for i, state in enumerate(simulated_results.states):\n",
    "    print(f'State {i}: {state}')\n",
    "print()"
   ]
  },
  {
   "cell_type": "markdown",
   "metadata": {},
   "source": [
    "Notice that our `x` position never reaches a negative value! This is because we have defined a state limit for the `x` state that prevents it from going below __0__ (see _Warning_ above). This makes our simulation more realistic!"
   ]
  },
  {
   "cell_type": "markdown",
   "metadata": {},
   "source": [
    "Let's try another example, this time we'll try setting the `x` to a number outside of its bounds!"
   ]
  },
  {
   "cell_type": "code",
   "execution_count": null,
   "metadata": {},
   "outputs": [],
   "source": [
    "x0 = m.initialize(u = {}, z = {})\n",
    "x0['x'] = -1\n",
    "\n",
    "simulated_results = m.simulate_to_threshold(threshold_keys=[event], dt=0.005, save_freq=1, x = x0)\n",
    "\n",
    "# Print states\n",
    "print('Example 2: With -1 as initial x value')\n",
    "for i, state in enumerate(simulated_results.states):\n",
    "    print('State ', i, ': ', state)\n",
    "print()"
   ]
  },
  {
   "cell_type": "markdown",
   "metadata": {},
   "source": [
    "Since our `x` state limit is set to __0__, the simulation will abruptly stop since our ThrownObject model goes is being thrown up."
   ]
  },
  {
   "cell_type": "markdown",
   "metadata": {},
   "source": [
    "Finally, let's try another example when the object speed approaches its limit."
   ]
  },
  {
   "cell_type": "code",
   "execution_count": null,
   "metadata": {},
   "outputs": [],
   "source": [
    "x0 = m.initialize(u = {}, z = {})\n",
    "x0['x'] = 1000000000\n",
    "x0['v'] = 0\n",
    "m.parameters['g'] = -50000000\n",
    "\n",
    "print('Example 3')\n",
    "simulated_results = m.simulate_to_threshold(threshold_keys=[event], dt=0.005, save_freq=0.3, x = x0, print = True, progress = False)\n",
    "\n",
    "# Note that the limits can also be applied manually using the apply_limits function\n",
    "print('limiting states')\n",
    "x = {'x': -5, 'v': 3e8}  # Too fast and below the ground\n",
    "print('\\t Pre-limit: {}'.format(x))\n",
    "x = m.apply_limits(x)\n",
    "print('\\t Post-limit: {}'.format(x))"
   ]
  },
  {
   "cell_type": "markdown",
   "metadata": {},
   "source": [
    "### Conclusion"
   ]
  },
  {
   "cell_type": "markdown",
   "metadata": {},
   "source": [
    "Setting appropriate state limits is crucial in creating realistic and accurate state-transition models. It ensures that the model's behavior stays within realistic bounds, regardless of the conditions or variables applied. Keep in mind that the limits should be set based on the physical or practical constraints of the system being modeled.\n",
    "\n",
    "For more information, please refer to our [State Limits](https://nasa.github.io/progpy/prog_models_guide.html#state-limits) documentation. For more information on ProgPy, please refer to our [ProgPy](https://nasa.github.io/progpy/) documentation."
   ]
  }
 ],
 "metadata": {
  "kernelspec": {
   "display_name": "Python 3",
   "language": "python",
   "name": "python3"
  },
  "language_info": {
   "codemirror_mode": {
    "name": "ipython",
    "version": 3
   },
   "file_extension": ".py",
   "mimetype": "text/x-python",
   "name": "python",
   "nbconvert_exporter": "python",
   "pygments_lexer": "ipython3",
   "version": "3.11.4"
  },
  "orig_nbformat": 4
 },
 "nbformat": 4,
 "nbformat_minor": 2
}
